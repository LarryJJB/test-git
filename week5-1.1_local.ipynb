{
 "cells": [
  {
   "cell_type": "code",
   "execution_count": 9,
   "metadata": {
    "id": "FJCtHjCNSN2q",
    "tags": []
   },
   "outputs": [],
   "source": [
    "from bs4 import BeautifulSoup\n",
    "import urllib.request\n",
    "import pandas as pd\n",
    "import datetime\n",
    "\n",
    "from selenium import webdriver\n",
    "import time"
   ]
  },
  {
   "cell_type": "code",
   "execution_count": 17,
   "metadata": {
    "id": "XxgwcQpMSLbf",
    "tags": []
   },
   "outputs": [],
   "source": [
    "#[CODE 1]\n",
    "def CoffeeBean_store(result):\n",
    "    CoffeeBean_URL = \"https://www.coffeebeankorea.com/store/store.asp\"\n",
    "    wd = webdriver.Chrome() #크롬드라이브 초기화화\n",
    "\n",
    "    for i in range(1, 395):  #마지막 매장번호(최근 신규 매장번호) 까지 반복 #395\n",
    "        wd.get(CoffeeBean_URL)\n",
    "        time.sleep(1)  #웹페이지 연결할 동안 1초 대기\n",
    "        try:\n",
    "            wd.execute_script(\"storePop2(%d)\" %i)\n",
    "            time.sleep(1) #스크립트 실행 할 동안 1초 대기\n",
    "            html = wd.page_source\n",
    "            soupCB = BeautifulSoup(html, 'html.parser')\n",
    "            store_name_h2 = soupCB.select(\"div.store_txt > h2\")\n",
    "            store_name = store_name_h2[0].string\n",
    "            print(store_name)  #매장 이름 출력하기\n",
    "            store_info = soupCB.select(\"div.store_txt > table.store_table > tbody > tr > td\")\n",
    "            store_address_list = list(store_info[2])\n",
    "            store_address = store_address_list[0]\n",
    "            store_phone = store_info[3].string\n",
    "            result.append([store_name]+[store_address]+[store_phone])\n",
    "        except:\n",
    "            continue\n",
    "    return"
   ]
  },
  {
   "cell_type": "code",
   "execution_count": 18,
   "metadata": {
    "colab": {
     "base_uri": "https://localhost:8080/"
    },
    "id": "b2qp0NHFSSJr",
    "outputId": "04138178-7eb9-40e0-f07f-b50677dafd74",
    "tags": []
   },
   "outputs": [
    {
     "name": "stdout",
     "output_type": "stream",
     "text": [
      "CoffeeBean store crawling >>>>>>>>>>>>>>>>>>>>>>>>>>\n",
      "차병원점\n",
      "강남대로점\n",
      "청담에스점\n",
      "신사점\n",
      "역삼점\n",
      "양재스포타임점\n",
      "청담성당점\n",
      "영동점\n",
      "도곡점\n",
      "영동고앞점\n",
      "압구정시티점\n",
      "서초우성점\n",
      "논현팍스타워점\n",
      "삼성오크우드점\n",
      "트레이드타워점\n",
      "삼성봉은사거리점\n",
      "서초지파이브점\n",
      "논현동수면센터점\n",
      "삼성전자강남사옥점\n",
      "삼성생명강남사옥점\n",
      "방배카페골목점\n",
      "역삼포스틸타워뒷점\n",
      "테헤란로하이닉스뒷점\n",
      "삼성봉은사로점\n",
      "방이점\n",
      "매봉역점\n",
      "남부터미널역점\n",
      "강남역랭기지타워점\n",
      "도심공항타워점\n",
      "청담카페점\n",
      "광화문점\n",
      "경희궁의아침점\n",
      "홍대역점\n",
      "순화점\n",
      "종로관철동점\n",
      "소공동삼화빌딩점\n",
      "강변테크노마트점\n",
      "외대앞점\n",
      "고대안암역점\n",
      "순화동라마다호텔점\n",
      "신촌점\n",
      "건대스타시티점\n",
      "하나은행경복궁역점\n",
      "서울스퀘어점\n",
      "목동점\n",
      "여의도교보증권점\n",
      "여의도순복음교회옆점\n",
      "대전탄방동점\n",
      "일산웨스턴돔1호점\n",
      "분당차병원점\n",
      "분당수내점\n",
      "동탄라마다호텔점\n",
      "창원상남동점\n",
      "청주지웰시티점\n",
      "무교CBTL점\n",
      "국기원사거리점\n",
      "무교점\n",
      "남대문점\n",
      "대학로마로니에점\n",
      "인사점\n",
      "테헤란로비젼타워점\n",
      "서울대입구역점\n",
      "코엑스웨스틴서울점\n",
      "뉴압구정점\n",
      "디큐브시티점\n"
     ]
    },
    {
     "ename": "NoSuchWindowException",
     "evalue": "Message: no such window: target window already closed\nfrom unknown error: web view not found\n  (Session info: chrome=134.0.6998.178)\nStacktrace:\n\tGetHandleVerifier [0x00007FF770C84C25+3179557]\n\t(No symbol) [0x00007FF7708E88A0]\n\t(No symbol) [0x00007FF7707791CA]\n\t(No symbol) [0x00007FF770751753]\n\t(No symbol) [0x00007FF7707FF83E]\n\t(No symbol) [0x00007FF77081FBE2]\n\t(No symbol) [0x00007FF7707F7A03]\n\t(No symbol) [0x00007FF7707C06D0]\n\t(No symbol) [0x00007FF7707C1983]\n\tGetHandleVerifier [0x00007FF770CE67CD+3579853]\n\tGetHandleVerifier [0x00007FF770CFD1D2+3672530]\n\tGetHandleVerifier [0x00007FF770CF2153+3627347]\n\tGetHandleVerifier [0x00007FF770A5092A+868650]\n\t(No symbol) [0x00007FF7708F2FFF]\n\t(No symbol) [0x00007FF7708EF4A4]\n\t(No symbol) [0x00007FF7708EF646]\n\t(No symbol) [0x00007FF7708DEAA9]\n\tBaseThreadInitThunk [0x00007FF8DA6FE8D7+23]\n\tRtlUserThreadStart [0x00007FF8DB47BF6C+44]\n",
     "output_type": "error",
     "traceback": [
      "\u001b[31m---------------------------------------------------------------------------\u001b[39m",
      "\u001b[31mNoSuchWindowException\u001b[39m                     Traceback (most recent call last)",
      "\u001b[36mCell\u001b[39m\u001b[36m \u001b[39m\u001b[32mIn[18]\u001b[39m\u001b[32m, line 13\u001b[39m\n\u001b[32m     10\u001b[39m     wd.quit()\n\u001b[32m     12\u001b[39m \u001b[38;5;28;01mif\u001b[39;00m \u001b[34m__name__\u001b[39m == \u001b[33m'\u001b[39m\u001b[33m__main__\u001b[39m\u001b[33m'\u001b[39m:\n\u001b[32m---> \u001b[39m\u001b[32m13\u001b[39m      \u001b[43mmain\u001b[49m\u001b[43m(\u001b[49m\u001b[43m)\u001b[49m\n",
      "\u001b[36mCell\u001b[39m\u001b[36m \u001b[39m\u001b[32mIn[18]\u001b[39m\u001b[32m, line 5\u001b[39m, in \u001b[36mmain\u001b[39m\u001b[34m()\u001b[39m\n\u001b[32m      3\u001b[39m result = []\n\u001b[32m      4\u001b[39m \u001b[38;5;28mprint\u001b[39m(\u001b[33m'\u001b[39m\u001b[33mCoffeeBean store crawling >>>>>>>>>>>>>>>>>>>>>>>>>>\u001b[39m\u001b[33m'\u001b[39m)\n\u001b[32m----> \u001b[39m\u001b[32m5\u001b[39m \u001b[43mCoffeeBean_store\u001b[49m\u001b[43m(\u001b[49m\u001b[43mresult\u001b[49m\u001b[43m)\u001b[49m  \u001b[38;5;66;03m#[CODE 1]\u001b[39;00m\n\u001b[32m      7\u001b[39m CB_tbl = pd.DataFrame(result, columns=(\u001b[33m'\u001b[39m\u001b[33mstore\u001b[39m\u001b[33m'\u001b[39m, \u001b[33m'\u001b[39m\u001b[33maddress\u001b[39m\u001b[33m'\u001b[39m,\u001b[33m'\u001b[39m\u001b[33mphone\u001b[39m\u001b[33m'\u001b[39m))\n\u001b[32m      8\u001b[39m CB_tbl.to_csv(\u001b[33m'\u001b[39m\u001b[33mCoffeeBean.csv\u001b[39m\u001b[33m'\u001b[39m, encoding=\u001b[33m'\u001b[39m\u001b[33mcp949\u001b[39m\u001b[33m'\u001b[39m, mode=\u001b[33m'\u001b[39m\u001b[33mw\u001b[39m\u001b[33m'\u001b[39m, index=\u001b[38;5;28;01mTrue\u001b[39;00m)\n",
      "\u001b[36mCell\u001b[39m\u001b[36m \u001b[39m\u001b[32mIn[17]\u001b[39m\u001b[32m, line 7\u001b[39m, in \u001b[36mCoffeeBean_store\u001b[39m\u001b[34m(result)\u001b[39m\n\u001b[32m      4\u001b[39m wd = webdriver.Chrome() \u001b[38;5;66;03m#크롬드라이브 초기화화\u001b[39;00m\n\u001b[32m      6\u001b[39m \u001b[38;5;28;01mfor\u001b[39;00m i \u001b[38;5;129;01min\u001b[39;00m \u001b[38;5;28mrange\u001b[39m(\u001b[32m1\u001b[39m, \u001b[32m395\u001b[39m):  \u001b[38;5;66;03m#마지막 매장번호(최근 신규 매장번호) 까지 반복 #395\u001b[39;00m\n\u001b[32m----> \u001b[39m\u001b[32m7\u001b[39m     \u001b[43mwd\u001b[49m\u001b[43m.\u001b[49m\u001b[43mget\u001b[49m\u001b[43m(\u001b[49m\u001b[43mCoffeeBean_URL\u001b[49m\u001b[43m)\u001b[49m\n\u001b[32m      8\u001b[39m     time.sleep(\u001b[32m1\u001b[39m)  \u001b[38;5;66;03m#웹페이지 연결할 동안 1초 대기\u001b[39;00m\n\u001b[32m      9\u001b[39m     \u001b[38;5;28;01mtry\u001b[39;00m:\n",
      "\u001b[36mFile \u001b[39m\u001b[32mc:\\Users\\82105\\AppData\\Local\\Programs\\Python\\Python313\\Lib\\site-packages\\selenium\\webdriver\\remote\\webdriver.py:454\u001b[39m, in \u001b[36mWebDriver.get\u001b[39m\u001b[34m(self, url)\u001b[39m\n\u001b[32m    436\u001b[39m \u001b[38;5;28;01mdef\u001b[39;00m\u001b[38;5;250m \u001b[39m\u001b[34mget\u001b[39m(\u001b[38;5;28mself\u001b[39m, url: \u001b[38;5;28mstr\u001b[39m) -> \u001b[38;5;28;01mNone\u001b[39;00m:\n\u001b[32m    437\u001b[39m \u001b[38;5;250m    \u001b[39m\u001b[33;03m\"\"\"Navigate the browser to the specified URL in the current window or\u001b[39;00m\n\u001b[32m    438\u001b[39m \u001b[33;03m    tab.\u001b[39;00m\n\u001b[32m    439\u001b[39m \n\u001b[32m   (...)\u001b[39m\u001b[32m    452\u001b[39m \u001b[33;03m    >>> driver.get(\"https://example.com\")\u001b[39;00m\n\u001b[32m    453\u001b[39m \u001b[33;03m    \"\"\"\u001b[39;00m\n\u001b[32m--> \u001b[39m\u001b[32m454\u001b[39m     \u001b[38;5;28;43mself\u001b[39;49m\u001b[43m.\u001b[49m\u001b[43mexecute\u001b[49m\u001b[43m(\u001b[49m\u001b[43mCommand\u001b[49m\u001b[43m.\u001b[49m\u001b[43mGET\u001b[49m\u001b[43m,\u001b[49m\u001b[43m \u001b[49m\u001b[43m{\u001b[49m\u001b[33;43m\"\u001b[39;49m\u001b[33;43murl\u001b[39;49m\u001b[33;43m\"\u001b[39;49m\u001b[43m:\u001b[49m\u001b[43m \u001b[49m\u001b[43murl\u001b[49m\u001b[43m}\u001b[49m\u001b[43m)\u001b[49m\n",
      "\u001b[36mFile \u001b[39m\u001b[32mc:\\Users\\82105\\AppData\\Local\\Programs\\Python\\Python313\\Lib\\site-packages\\selenium\\webdriver\\remote\\webdriver.py:429\u001b[39m, in \u001b[36mWebDriver.execute\u001b[39m\u001b[34m(self, driver_command, params)\u001b[39m\n\u001b[32m    427\u001b[39m response = \u001b[38;5;28mself\u001b[39m.command_executor.execute(driver_command, params)\n\u001b[32m    428\u001b[39m \u001b[38;5;28;01mif\u001b[39;00m response:\n\u001b[32m--> \u001b[39m\u001b[32m429\u001b[39m     \u001b[38;5;28;43mself\u001b[39;49m\u001b[43m.\u001b[49m\u001b[43merror_handler\u001b[49m\u001b[43m.\u001b[49m\u001b[43mcheck_response\u001b[49m\u001b[43m(\u001b[49m\u001b[43mresponse\u001b[49m\u001b[43m)\u001b[49m\n\u001b[32m    430\u001b[39m     response[\u001b[33m\"\u001b[39m\u001b[33mvalue\u001b[39m\u001b[33m\"\u001b[39m] = \u001b[38;5;28mself\u001b[39m._unwrap_value(response.get(\u001b[33m\"\u001b[39m\u001b[33mvalue\u001b[39m\u001b[33m\"\u001b[39m, \u001b[38;5;28;01mNone\u001b[39;00m))\n\u001b[32m    431\u001b[39m     \u001b[38;5;28;01mreturn\u001b[39;00m response\n",
      "\u001b[36mFile \u001b[39m\u001b[32mc:\\Users\\82105\\AppData\\Local\\Programs\\Python\\Python313\\Lib\\site-packages\\selenium\\webdriver\\remote\\errorhandler.py:232\u001b[39m, in \u001b[36mErrorHandler.check_response\u001b[39m\u001b[34m(self, response)\u001b[39m\n\u001b[32m    230\u001b[39m         alert_text = value[\u001b[33m\"\u001b[39m\u001b[33malert\u001b[39m\u001b[33m\"\u001b[39m].get(\u001b[33m\"\u001b[39m\u001b[33mtext\u001b[39m\u001b[33m\"\u001b[39m)\n\u001b[32m    231\u001b[39m     \u001b[38;5;28;01mraise\u001b[39;00m exception_class(message, screen, stacktrace, alert_text)  \u001b[38;5;66;03m# type: ignore[call-arg]  # mypy is not smart enough here\u001b[39;00m\n\u001b[32m--> \u001b[39m\u001b[32m232\u001b[39m \u001b[38;5;28;01mraise\u001b[39;00m exception_class(message, screen, stacktrace)\n",
      "\u001b[31mNoSuchWindowException\u001b[39m: Message: no such window: target window already closed\nfrom unknown error: web view not found\n  (Session info: chrome=134.0.6998.178)\nStacktrace:\n\tGetHandleVerifier [0x00007FF770C84C25+3179557]\n\t(No symbol) [0x00007FF7708E88A0]\n\t(No symbol) [0x00007FF7707791CA]\n\t(No symbol) [0x00007FF770751753]\n\t(No symbol) [0x00007FF7707FF83E]\n\t(No symbol) [0x00007FF77081FBE2]\n\t(No symbol) [0x00007FF7707F7A03]\n\t(No symbol) [0x00007FF7707C06D0]\n\t(No symbol) [0x00007FF7707C1983]\n\tGetHandleVerifier [0x00007FF770CE67CD+3579853]\n\tGetHandleVerifier [0x00007FF770CFD1D2+3672530]\n\tGetHandleVerifier [0x00007FF770CF2153+3627347]\n\tGetHandleVerifier [0x00007FF770A5092A+868650]\n\t(No symbol) [0x00007FF7708F2FFF]\n\t(No symbol) [0x00007FF7708EF4A4]\n\t(No symbol) [0x00007FF7708EF646]\n\t(No symbol) [0x00007FF7708DEAA9]\n\tBaseThreadInitThunk [0x00007FF8DA6FE8D7+23]\n\tRtlUserThreadStart [0x00007FF8DB47BF6C+44]\n"
     ]
    }
   ],
   "source": [
    "#[CODE 0]\n",
    "def main():\n",
    "    result = []\n",
    "    print('CoffeeBean store crawling >>>>>>>>>>>>>>>>>>>>>>>>>>')\n",
    "    CoffeeBean_store(result)  #[CODE 1]\n",
    "\n",
    "    CB_tbl = pd.DataFrame(result, columns=('store', 'address','phone'))\n",
    "    CB_tbl.to_csv('CoffeeBean.csv', encoding='cp949', mode='w', index=True)\n",
    "\n",
    "    wd.quit()\n",
    "\n",
    "if __name__ == '__main__':\n",
    "     main()"
   ]
  },
  {
   "cell_type": "code",
   "execution_count": null,
   "metadata": {
    "id": "R0KN1-CWSdPc"
   },
   "outputs": [],
   "source": []
  }
 ],
 "metadata": {
  "colab": {
   "provenance": []
  },
  "kernelspec": {
   "display_name": "Python 3",
   "language": "python",
   "name": "python3"
  },
  "language_info": {
   "codemirror_mode": {
    "name": "ipython",
    "version": 3
   },
   "file_extension": ".py",
   "mimetype": "text/x-python",
   "name": "python",
   "nbconvert_exporter": "python",
   "pygments_lexer": "ipython3",
   "version": "3.13.2"
  }
 },
 "nbformat": 4,
 "nbformat_minor": 0
}
